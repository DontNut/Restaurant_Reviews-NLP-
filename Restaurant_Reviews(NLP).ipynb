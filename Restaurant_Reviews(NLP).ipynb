{
 "cells": [
  {
   "cell_type": "code",
   "execution_count": 1,
   "id": "f89f126b",
   "metadata": {},
   "outputs": [],
   "source": [
    "import tensorflow as tf\n",
    "import numpy as np\n",
    "import matplotlib.pyplot as plt\n",
    "import pandas as pd\n",
    "from keras.preprocessing.text import Tokenizer\n",
    "from keras_preprocessing.sequence import pad_sequences"
   ]
  },
  {
   "cell_type": "code",
   "execution_count": 2,
   "id": "75e642b3",
   "metadata": {},
   "outputs": [],
   "source": [
    "train_set = pd.read_csv(r\"/tmp/Restaurant_Reviews(NLP)(train).csv\",encoding='utf-8')\n",
    "test_set = pd.read_csv(r\"/tmp/Restaurant_Reviews(NLP)(test).csv\",encoding='utf-8')"
   ]
  },
  {
   "cell_type": "code",
   "execution_count": 3,
   "id": "8dec5075",
   "metadata": {},
   "outputs": [
    {
     "data": {
      "text/html": [
       "<div>\n",
       "<style scoped>\n",
       "    .dataframe tbody tr th:only-of-type {\n",
       "        vertical-align: middle;\n",
       "    }\n",
       "\n",
       "    .dataframe tbody tr th {\n",
       "        vertical-align: top;\n",
       "    }\n",
       "\n",
       "    .dataframe thead th {\n",
       "        text-align: right;\n",
       "    }\n",
       "</style>\n",
       "<table border=\"1\" class=\"dataframe\">\n",
       "  <thead>\n",
       "    <tr style=\"text-align: right;\">\n",
       "      <th></th>\n",
       "      <th>Review</th>\n",
       "      <th>Liked</th>\n",
       "    </tr>\n",
       "  </thead>\n",
       "  <tbody>\n",
       "    <tr>\n",
       "      <th>0</th>\n",
       "      <td>Wow... Loved this place.</td>\n",
       "      <td>Good</td>\n",
       "    </tr>\n",
       "    <tr>\n",
       "      <th>1</th>\n",
       "      <td>Crust is not good.</td>\n",
       "      <td>Bad</td>\n",
       "    </tr>\n",
       "    <tr>\n",
       "      <th>2</th>\n",
       "      <td>Not tasty and the texture was just nasty.</td>\n",
       "      <td>Bad</td>\n",
       "    </tr>\n",
       "    <tr>\n",
       "      <th>3</th>\n",
       "      <td>Stopped by during the late May bank holiday of...</td>\n",
       "      <td>Good</td>\n",
       "    </tr>\n",
       "    <tr>\n",
       "      <th>4</th>\n",
       "      <td>The selection on the menu was great and so wer...</td>\n",
       "      <td>Good</td>\n",
       "    </tr>\n",
       "    <tr>\n",
       "      <th>5</th>\n",
       "      <td>Now I am getting angry and I want my damn pho.</td>\n",
       "      <td>Bad</td>\n",
       "    </tr>\n",
       "    <tr>\n",
       "      <th>6</th>\n",
       "      <td>Honeslty it didn't taste THAT fresh.)</td>\n",
       "      <td>Bad</td>\n",
       "    </tr>\n",
       "    <tr>\n",
       "      <th>7</th>\n",
       "      <td>The potatoes were like rubber and you could te...</td>\n",
       "      <td>Bad</td>\n",
       "    </tr>\n",
       "    <tr>\n",
       "      <th>8</th>\n",
       "      <td>The fries were great too.</td>\n",
       "      <td>Good</td>\n",
       "    </tr>\n",
       "    <tr>\n",
       "      <th>9</th>\n",
       "      <td>A great touch.</td>\n",
       "      <td>Good</td>\n",
       "    </tr>\n",
       "  </tbody>\n",
       "</table>\n",
       "</div>"
      ],
      "text/plain": [
       "                                              Review Liked\n",
       "0                           Wow... Loved this place.  Good\n",
       "1                                 Crust is not good.   Bad\n",
       "2          Not tasty and the texture was just nasty.   Bad\n",
       "3  Stopped by during the late May bank holiday of...  Good\n",
       "4  The selection on the menu was great and so wer...  Good\n",
       "5     Now I am getting angry and I want my damn pho.   Bad\n",
       "6              Honeslty it didn't taste THAT fresh.)   Bad\n",
       "7  The potatoes were like rubber and you could te...   Bad\n",
       "8                          The fries were great too.  Good\n",
       "9                                     A great touch.  Good"
      ]
     },
     "execution_count": 3,
     "metadata": {},
     "output_type": "execute_result"
    }
   ],
   "source": [
    "train_set.head(10)"
   ]
  },
  {
   "cell_type": "code",
   "execution_count": 4,
   "id": "6562d189",
   "metadata": {},
   "outputs": [
    {
     "data": {
      "text/html": [
       "<div>\n",
       "<style scoped>\n",
       "    .dataframe tbody tr th:only-of-type {\n",
       "        vertical-align: middle;\n",
       "    }\n",
       "\n",
       "    .dataframe tbody tr th {\n",
       "        vertical-align: top;\n",
       "    }\n",
       "\n",
       "    .dataframe thead th {\n",
       "        text-align: right;\n",
       "    }\n",
       "</style>\n",
       "<table border=\"1\" class=\"dataframe\">\n",
       "  <thead>\n",
       "    <tr style=\"text-align: right;\">\n",
       "      <th></th>\n",
       "      <th>Review</th>\n",
       "      <th>Liked</th>\n",
       "    </tr>\n",
       "  </thead>\n",
       "  <tbody>\n",
       "    <tr>\n",
       "      <th>0</th>\n",
       "      <td>Wow... Loved this place.</td>\n",
       "      <td>Good</td>\n",
       "    </tr>\n",
       "    <tr>\n",
       "      <th>1</th>\n",
       "      <td>Crust is not good.</td>\n",
       "      <td>Bad</td>\n",
       "    </tr>\n",
       "    <tr>\n",
       "      <th>2</th>\n",
       "      <td>Not tasty and the texture was just nasty.</td>\n",
       "      <td>Bad</td>\n",
       "    </tr>\n",
       "    <tr>\n",
       "      <th>3</th>\n",
       "      <td>Stopped by during the late May bank holiday of...</td>\n",
       "      <td>Good</td>\n",
       "    </tr>\n",
       "    <tr>\n",
       "      <th>4</th>\n",
       "      <td>The selection on the menu was great and so wer...</td>\n",
       "      <td>Good</td>\n",
       "    </tr>\n",
       "    <tr>\n",
       "      <th>...</th>\n",
       "      <td>...</td>\n",
       "      <td>...</td>\n",
       "    </tr>\n",
       "    <tr>\n",
       "      <th>196</th>\n",
       "      <td>If you stay in Vegas you must get breakfast he...</td>\n",
       "      <td>Good</td>\n",
       "    </tr>\n",
       "    <tr>\n",
       "      <th>197</th>\n",
       "      <td>I want to first say our server was great and w...</td>\n",
       "      <td>Good</td>\n",
       "    </tr>\n",
       "    <tr>\n",
       "      <th>198</th>\n",
       "      <td>The pizza selections are good.</td>\n",
       "      <td>Good</td>\n",
       "    </tr>\n",
       "    <tr>\n",
       "      <th>199</th>\n",
       "      <td>I had strawberry tea, which was good.</td>\n",
       "      <td>Good</td>\n",
       "    </tr>\n",
       "    <tr>\n",
       "      <th>200</th>\n",
       "      <td>Highly unprofessional and rude to a loyal patron!</td>\n",
       "      <td>Bad</td>\n",
       "    </tr>\n",
       "  </tbody>\n",
       "</table>\n",
       "<p>1000 rows × 2 columns</p>\n",
       "</div>"
      ],
      "text/plain": [
       "                                                Review Liked\n",
       "0                             Wow... Loved this place.  Good\n",
       "1                                   Crust is not good.   Bad\n",
       "2            Not tasty and the texture was just nasty.   Bad\n",
       "3    Stopped by during the late May bank holiday of...  Good\n",
       "4    The selection on the menu was great and so wer...  Good\n",
       "..                                                 ...   ...\n",
       "196  If you stay in Vegas you must get breakfast he...  Good\n",
       "197  I want to first say our server was great and w...  Good\n",
       "198                     The pizza selections are good.  Good\n",
       "199              I had strawberry tea, which was good.  Good\n",
       "200  Highly unprofessional and rude to a loyal patron!   Bad\n",
       "\n",
       "[1000 rows x 2 columns]"
      ]
     },
     "execution_count": 4,
     "metadata": {},
     "output_type": "execute_result"
    }
   ],
   "source": [
    "full_data = train_set.append(test_set)\n",
    "full_data"
   ]
  },
  {
   "cell_type": "code",
   "execution_count": 5,
   "id": "b403d988",
   "metadata": {},
   "outputs": [
    {
     "name": "stdout",
     "output_type": "stream",
     "text": [
      "Good    500\n",
      "Bad     500\n",
      "Name: Liked, dtype: int64\n"
     ]
    }
   ],
   "source": [
    "X_train = train_set['Review']\n",
    "X_test = test_set['Review']\n",
    "y_train = train_set['Liked']\n",
    "y_test = test_set['Liked']\n",
    "\n",
    "print(full_data.Liked.value_counts())"
   ]
  },
  {
   "cell_type": "code",
   "execution_count": 6,
   "id": "82d25fa4",
   "metadata": {},
   "outputs": [
    {
     "data": {
      "text/plain": [
       "('The cashier had no care what so ever on what I had to say it still ended up being wayyy overpriced.',\n",
       " 'Bad')"
      ]
     },
     "execution_count": 6,
     "metadata": {},
     "output_type": "execute_result"
    }
   ],
   "source": [
    "X_train[12],y_train[12]"
   ]
  },
  {
   "cell_type": "code",
   "execution_count": 7,
   "id": "707a441e",
   "metadata": {},
   "outputs": [
    {
     "data": {
      "image/png": "[encoded data removed]",
      "text/plain": [
       "<Figure size 432x288 with 1 Axes>"
      ]
     },
     "metadata": {
      "needs_background": "light"
     },
     "output_type": "display_data"
    }
   ],
   "source": [
    "lengths = [len(t.split(' ')) for t in full_data['Review']]\n",
    "plt.hist(lengths, bins = len(set(lengths)))\n",
    "plt.xlabel('Range of Words of different reviews') \n",
    "plt.ylabel('Token label')\n",
    "plt.show()  "
   ]
  },
  {
   "cell_type": "code",
   "execution_count": 8,
   "id": "35c67d41",
   "metadata": {},
   "outputs": [
    {
     "name": "stdout",
     "output_type": "stream",
     "text": [
      "Total Number of different types of words: 2068\n"
     ]
    }
   ],
   "source": [
    "tokenizer = Tokenizer()\n",
    "tokenizer.fit_on_texts(full_data['Review'])\n",
    "\n",
    "Train_sequence = tokenizer.texts_to_sequences(X_train)\n",
    "Test_sequence = tokenizer.texts_to_sequences(X_test)\n",
    "\n",
    "index_of_words = tokenizer.word_index\n",
    "\n",
    "vocab_size = len(index_of_words) + 1\n",
    "\n",
    "print('Total Number of different types of words: {}'.format(len(index_of_words)))"
   ]
  },
  {
   "cell_type": "code",
   "execution_count": 9,
   "id": "7c2a2df1",
   "metadata": {},
   "outputs": [
    {
     "name": "stdout",
     "output_type": "stream",
     "text": [
      "The cashier had no care what so ever on what I had to say it still ended up being wayyy overpriced.\n",
      "[[1, 590, 23, 58, 434, 66, 26, 52, 34, 66, 3, 23, 6, 106, 9, 152, 591, 55, 122, 909, 233]]\n"
     ]
    }
   ],
   "source": [
    "print(X_train[12])\n",
    "print(tokenizer.texts_to_sequences([X_train[12]]))"
   ]
  },
  {
   "cell_type": "code",
   "execution_count": 10,
   "id": "0dc32e0f",
   "metadata": {},
   "outputs": [
    {
     "data": {
      "text/plain": [
       "array([  1, 590,  23,  58, 434,  66,  26,  52,  34,  66,   3,  23,   6,\n",
       "       106,   9, 152, 591,  55, 122, 909, 233,   0,   0,   0,   0,   0,\n",
       "         0,   0,   0,   0])"
      ]
     },
     "execution_count": 10,
     "metadata": {},
     "output_type": "execute_result"
    }
   ],
   "source": [
    "def get_sequences(tokenizer , review):\n",
    "    sequences = tokenizer.texts_to_sequences(review)\n",
    "    padded = pad_sequences(sequences, truncating='post', padding='post', maxlen=30)\n",
    "    return padded\n",
    "padded_train_seq = get_sequences(tokenizer , X_train)\n",
    "padded_train_seq[12]"
   ]
  },
  {
   "cell_type": "code",
   "execution_count": 11,
   "id": "4892aa71",
   "metadata": {},
   "outputs": [
    {
     "name": "stdout",
     "output_type": "stream",
     "text": [
      "{'Bad', 'Good'}\n"
     ]
    },
    {
     "data": {
      "image/png": "[encoded data removed]",
      "text/plain": [
       "<Figure size 432x288 with 1 Axes>"
      ]
     },
     "metadata": {
      "needs_background": "light"
     },
     "output_type": "display_data"
    }
   ],
   "source": [
    "classes = set(y_train)\n",
    "print(classes)\n",
    "plt.hist(full_data['Liked'],bins=5)\n",
    "plt.show()"
   ]
  },
  {
   "cell_type": "code",
   "execution_count": 12,
   "id": "aec4801b",
   "metadata": {},
   "outputs": [
    {
     "data": {
      "text/plain": [
       "{'Bad': 0, 'Good': 1}"
      ]
     },
     "execution_count": 12,
     "metadata": {},
     "output_type": "execute_result"
    }
   ],
   "source": [
    "classes_to_index = dict((c,i) for i , c in enumerate(classes))\n",
    "index_to_classes = dict((v,k) for k , v in classes_to_index.items())\n",
    "classes_to_index"
   ]
  },
  {
   "cell_type": "code",
   "execution_count": 13,
   "id": "b51d4344",
   "metadata": {},
   "outputs": [
    {
     "name": "stdout",
     "output_type": "stream",
     "text": [
      "0\n"
     ]
    }
   ],
   "source": [
    "names_to_ids = lambda labels: np.array([classes_to_index.get(x) for x in labels])\n",
    "train_labels = names_to_ids(y_train)\n",
    "print(train_labels[12])"
   ]
  },
  {
   "cell_type": "code",
   "execution_count": 14,
   "id": "084adee1",
   "metadata": {},
   "outputs": [
    {
     "name": "stdout",
     "output_type": "stream",
     "text": [
      "Model: \"sequential\"\n",
      "_________________________________________________________________\n",
      " Layer (type)                Output Shape              Param #   \n",
      "=================================================================\n",
      " embedding (Embedding)       (None, 30, 16)            160000    \n",
      "                                                                 \n",
      " bidirectional (Bidirectiona  (None, 30, 40)           5920      \n",
      " l)                                                              \n",
      "                                                                 \n",
      " bidirectional_1 (Bidirectio  (None, 40)               9760      \n",
      " nal)                                                            \n",
      "                                                                 \n",
      " dense (Dense)               (None, 2)                 82        \n",
      "                                                                 \n",
      "=================================================================\n",
      "Total params: 175,762\n",
      "Trainable params: 175,762\n",
      "Non-trainable params: 0\n",
      "_________________________________________________________________\n"
     ]
    }
   ],
   "source": [
    "model = tf.keras.models.Sequential([\n",
    "    tf.keras.layers.Embedding(10000, 16, input_length=30),\n",
    "    tf.keras.layers.Bidirectional(tf.keras.layers.LSTM(20, return_sequences=True)),\n",
    "    tf.keras.layers.Bidirectional(tf.keras.layers.LSTM(20)),\n",
    "    tf.keras.layers.Dense(2, activation='sigmoid')\n",
    "])\n",
    "\n",
    "model.compile(\n",
    "    loss='sparse_categorical_crossentropy',\n",
    "    optimizer='adam',\n",
    "    metrics=['accuracy']\n",
    ")\n",
    "\n",
    "model.summary()"
   ]
  },
  {
   "cell_type": "code",
   "execution_count": 15,
   "id": "a39cb228",
   "metadata": {},
   "outputs": [
    {
     "data": {
      "text/plain": [
       "('Highly unprofessional and rude to a loyal patron!', 0)"
      ]
     },
     "execution_count": 15,
     "metadata": {},
     "output_type": "execute_result"
    }
   ],
   "source": [
    "val_sequences = get_sequences(tokenizer, X_test)\n",
    "y_test = names_to_ids(y_test)\n",
    "X_test[200], y_test[200]"
   ]
  },
  {
   "cell_type": "code",
   "execution_count": 16,
   "id": "4a6e9c6c",
   "metadata": {},
   "outputs": [
    {
     "name": "stdout",
     "output_type": "stream",
     "text": [
      "Epoch 1/20\n",
      "25/25 [==============================] - 6s 72ms/step - loss: 0.6859 - accuracy: 0.5557 - val_loss: 0.7708 - val_accuracy: 0.2438\n",
      "Epoch 2/20\n",
      "25/25 [==============================] - 0s 20ms/step - loss: 0.6745 - accuracy: 0.5645 - val_loss: 0.7905 - val_accuracy: 0.2488\n",
      "Epoch 3/20\n",
      "25/25 [==============================] - 0s 19ms/step - loss: 0.6037 - accuracy: 0.6596 - val_loss: 0.5623 - val_accuracy: 0.7811\n",
      "Epoch 4/20\n",
      "25/25 [==============================] - 0s 18ms/step - loss: 0.3304 - accuracy: 0.8611 - val_loss: 0.6986 - val_accuracy: 0.7065\n",
      "Epoch 5/20\n",
      "25/25 [==============================] - 0s 19ms/step - loss: 0.1379 - accuracy: 0.9562 - val_loss: 0.6997 - val_accuracy: 0.7114\n"
     ]
    }
   ],
   "source": [
    "history = model.fit(\n",
    "    padded_train_seq, train_labels,\n",
    "    validation_data=(val_sequences, y_test),\n",
    "    epochs=20,\n",
    "    verbose=1,\n",
    "    callbacks=[\n",
    "        tf.keras.callbacks.EarlyStopping(monitor='val_accuracy', patience=2)\n",
    "    ]\n",
    ")"
   ]
  },
  {
   "cell_type": "code",
   "execution_count": 17,
   "id": "9e6dc09a",
   "metadata": {},
   "outputs": [
    {
     "data": {
      "image/png": "[encoded data removed]",
      "text/plain": [
       "<Figure size 1152x432 with 2 Axes>"
      ]
     },
     "metadata": {
      "needs_background": "light"
     },
     "output_type": "display_data"
    }
   ],
   "source": [
    "epochs_trained = len(history.history['loss'])\n",
    "plt.figure(figsize=(16, 6))\n",
    "\n",
    "plt.subplot(1, 2, 1)\n",
    "plt.plot(range(0, epochs_trained), history.history.get('accuracy'), label='Training')\n",
    "plt.plot(range(0, epochs_trained), history.history.get('val_accuracy'), label='Validation')\n",
    "plt.ylim([0., 1.])\n",
    "plt.xlabel('Epochs')\n",
    "plt.ylabel('Accuracy')\n",
    "plt.legend()\n",
    "\n",
    "plt.subplot(1, 2, 2)\n",
    "plt.plot(range(0, epochs_trained), history.history.get('loss'), label='Training')\n",
    "plt.plot(range(0, epochs_trained), history.history.get('val_loss'), label='Validation')\n",
    "plt.xlabel('Epochs')\n",
    "plt.ylabel('Loss')\n",
    "plt.legend()\n",
    "plt.show()"
   ]
  },
  {
   "cell_type": "code",
   "execution_count": 22,
   "id": "7159c63b",
   "metadata": {},
   "outputs": [
    {
     "name": "stdout",
     "output_type": "stream",
     "text": [
      "1/1 [==============================] - 0s 26ms/step\n",
      "Message: ['Ice cream makes me feel mouth watering']\n",
      "Predicted Emotion: Good\n",
      "[0.31110597 0.76339823]\n"
     ]
    }
   ],
   "source": [
    "message = [\"Ice cream makes me feel mouth watering\"]\n",
    "\n",
    "new_sequence = tokenizer.texts_to_sequences(message)\n",
    "new_pad = pad_sequences(new_sequence, maxlen=30)\n",
    "prediction = model.predict(new_pad)\n",
    "\n",
    "print('Message: ' + str(message))\n",
    "print('Predicted Emotion:', index_to_classes[np.argmax(prediction[0])])\n",
    "print(prediction[0])"
   ]
  },
  {
   "cell_type": "code",
   "execution_count": null,
   "id": "85e03700",
   "metadata": {},
   "outputs": [],
   "source": []
  }
 ],
 "metadata": {
  "kernelspec": {
   "display_name": "Python 3 (ipykernel)",
   "language": "python",
   "name": "python3"
  },
  "language_info": {
   "codemirror_mode": {
    "name": "ipython",
    "version": 3
   },
   "file_extension": ".py",
   "mimetype": "text/x-python",
   "name": "python",
   "nbconvert_exporter": "python",
   "pygments_lexer": "ipython3",
   "version": "3.9.7"
  }
 },
 "nbformat": 4,
 "nbformat_minor": 5
}
